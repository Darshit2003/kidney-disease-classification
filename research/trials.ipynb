{
 "cells": [
  {
   "cell_type": "code",
   "execution_count": 1,
   "id": "f1208222",
   "metadata": {},
   "outputs": [],
   "source": [
    "import gdown"
   ]
  },
  {
   "cell_type": "code",
   "execution_count": 2,
   "id": "ff87c88a",
   "metadata": {},
   "outputs": [],
   "source": [
    "url = \"https://drive.google.com/file/d/1vlhZ5c7abUKF8xXERIw6m9Te8fW7ohw3/view?usp=sharing\""
   ]
  },
  {
   "cell_type": "code",
   "execution_count": 6,
   "id": "09db9448",
   "metadata": {},
   "outputs": [
    {
     "name": "stdout",
     "output_type": "stream",
     "text": [
      "1vlhZ5c7abUKF8xXERIw6m9Te8fW7ohw3\n"
     ]
    }
   ],
   "source": [
    "file_id = url.split('/')[-2]\n",
    "print(file_id)"
   ]
  },
  {
   "cell_type": "code",
   "execution_count": 7,
   "id": "92e11376",
   "metadata": {},
   "outputs": [
    {
     "name": "stderr",
     "output_type": "stream",
     "text": [
      "Downloading...\n",
      "From (original): https://drive.google.com/uc?/export=download&id=1vlhZ5c7abUKF8xXERIw6m9Te8fW7ohw3\n",
      "From (redirected): https://drive.google.com/uc?%2Fexport=download&id=1vlhZ5c7abUKF8xXERIw6m9Te8fW7ohw3&confirm=t&uuid=bfa29da2-8303-4ea0-9a33-68bf8e3b0a61\n",
      "To: d:\\ML_Projects\\kidney-disease-classification\\research\\kidney-CT-scan-data.zip\n",
      "100%|██████████| 57.7M/57.7M [00:11<00:00, 5.10MB/s]\n"
     ]
    },
    {
     "data": {
      "text/plain": [
       "'kidney-CT-scan-data.zip'"
      ]
     },
     "execution_count": 7,
     "metadata": {},
     "output_type": "execute_result"
    }
   ],
   "source": [
    "prefix = 'https://drive.google.com/uc?/export=download&id='\n",
    "gdown.download(prefix+file_id,\"kidney-CT-scan-data.zip\")\n"
   ]
  },
  {
   "cell_type": "code",
   "execution_count": 2,
   "id": "b4152485",
   "metadata": {},
   "outputs": [
    {
     "name": "stdout",
     "output_type": "stream",
     "text": [
      "Generating Pascal's Triangle for 1 row: [[1]]\n",
      "Generating Pascal's Triangle for 5 rows: [[1], [1, 1], [1, 2, 1], [1, 3, 3, 1], [1, 4, 6, 4, 1]]\n"
     ]
    }
   ],
   "source": [
    "from typing import List # This import is crucial for type hints in older Python versions\n",
    "\n",
    "class Solution(object):\n",
    "    # This method generates a single row of Pascal's Triangle\n",
    "    # For a given row_index (n), it calculates the elements nC0, nC1, ..., nCn\n",
    "    def generate_single_row(self, row_index):\n",
    "        \"\"\"\n",
    "        Generates a single row of Pascal's Triangle using the nCr formula iteratively.\n",
    "        :type row_index: int (0-indexed row number)\n",
    "        :rtype: List[int]\n",
    "        \"\"\"\n",
    "        # The first element of any row (nC0) is always 1\n",
    "        current_row = [1]\n",
    "\n",
    "        # We calculate subsequent elements using the property: nCk = nC(k-1) * (n-k+1) / k\n",
    "        # 'prev_val' stores nC(k-1)\n",
    "        prev_val = 1\n",
    "        for k in range(1, row_index + 1):\n",
    "            current_val = (prev_val * (row_index - k + 1)) // k\n",
    "            current_row.append(current_val)\n",
    "            prev_val = current_val # Update prev_val for the next iteration\n",
    "        return current_row\n",
    "\n",
    "    def generate(self, numRows):\n",
    "        \"\"\"\n",
    "        Generates the first numRows of Pascal's Triangle.\n",
    "        :type numRows: int\n",
    "        :rtype: List[List[int]]\n",
    "        \"\"\"\n",
    "        ans = []\n",
    "        if numRows == 0:\n",
    "            return ans\n",
    "\n",
    "        for i in range(numRows):\n",
    "            # Call the helper function to generate each row\n",
    "            ans.append(self.generate_single_row(i))\n",
    "        return ans\n",
    "\n",
    "# Testing\n",
    "obj = Solution()\n",
    "print(f\"Generating Pascal's Triangle for 1 row: {obj.generate(1)}\")\n",
    "# Expected: [[1]]\n",
    "\n",
    "print(f\"Generating Pascal's Triangle for 5 rows: {obj.generate(5)}\")\n",
    "# Expected: [[1], [1, 1], [1, 2, 1], [1, 3, 3, 1], [1, 4, 6, 4, 1]]\n"
   ]
  },
  {
   "cell_type": "code",
   "execution_count": null,
   "id": "bca0d129",
   "metadata": {},
   "outputs": [],
   "source": []
  }
 ],
 "metadata": {
  "kernelspec": {
   "display_name": "kidney",
   "language": "python",
   "name": "python3"
  },
  "language_info": {
   "codemirror_mode": {
    "name": "ipython",
    "version": 3
   },
   "file_extension": ".py",
   "mimetype": "text/x-python",
   "name": "python",
   "nbconvert_exporter": "python",
   "pygments_lexer": "ipython3",
   "version": "3.8.20"
  }
 },
 "nbformat": 4,
 "nbformat_minor": 5
}
